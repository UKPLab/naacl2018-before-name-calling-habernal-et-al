{
 "cells": [
  {
   "cell_type": "markdown",
   "metadata": {
    "collapsed": true
   },
   "source": [
    "# Analyzing only threads with Ad-Hominem\n",
    "(for full thread analysis, see `full-cmv-data-analysis`)\n",
    "\n",
    "* Extract threads that contain some ad-hominem arguments; but only those with a distinct label (not for example 'low effort comments')"
   ]
  },
  {
   "cell_type": "code",
   "execution_count": 1,
   "metadata": {},
   "outputs": [
    {
     "name": "stdout",
     "output_type": "stream",
     "text": [
      "Threads with ad-hominem: 3996\n"
     ]
    }
   ],
   "source": [
    "from RedditThread import RedditThread\n",
    "\n",
    "threads = RedditThread.load_or_unpickle_ad_hominem_threads()\n",
    "print(\"Threads with ad-hominem:\", len(threads))"
   ]
  },
  {
   "cell_type": "code",
   "execution_count": 2,
   "metadata": {},
   "outputs": [
    {
     "name": "stdout",
     "output_type": "stream",
     "text": [
      "Unique comments total: 29278 comments\n",
      "Unique comments ad-hominem: 3866\n"
     ]
    }
   ],
   "source": [
    "all_comments = RedditThread.collect_all_comments(threads)\n",
    "print('Unique comments total:', len(all_comments), 'comments')\n",
    "print('Unique comments ad-hominem:', len([x for x in all_comments if x.is_ad_hominem()]))\n",
    "all_comments = None"
   ]
  },
  {
   "cell_type": "markdown",
   "metadata": {},
   "source": [
    "* How many ad-hominem arguments per thread?"
   ]
  },
  {
   "cell_type": "code",
   "execution_count": 3,
   "metadata": {},
   "outputs": [
    {
     "data": {
      "text/html": [
       "<div>\n",
       "<style scoped>\n",
       "    .dataframe tbody tr th:only-of-type {\n",
       "        vertical-align: middle;\n",
       "    }\n",
       "\n",
       "    .dataframe tbody tr th {\n",
       "        vertical-align: top;\n",
       "    }\n",
       "\n",
       "    .dataframe thead th {\n",
       "        text-align: right;\n",
       "    }\n",
       "</style>\n",
       "<table border=\"1\" class=\"dataframe\">\n",
       "  <thead>\n",
       "    <tr style=\"text-align: right;\">\n",
       "      <th></th>\n",
       "      <th>0</th>\n",
       "    </tr>\n",
       "  </thead>\n",
       "  <tbody>\n",
       "    <tr>\n",
       "      <th>count</th>\n",
       "      <td>3996.000000</td>\n",
       "    </tr>\n",
       "    <tr>\n",
       "      <th>mean</th>\n",
       "      <td>1.197698</td>\n",
       "    </tr>\n",
       "    <tr>\n",
       "      <th>std</th>\n",
       "      <td>0.537416</td>\n",
       "    </tr>\n",
       "    <tr>\n",
       "      <th>min</th>\n",
       "      <td>1.000000</td>\n",
       "    </tr>\n",
       "    <tr>\n",
       "      <th>25%</th>\n",
       "      <td>1.000000</td>\n",
       "    </tr>\n",
       "    <tr>\n",
       "      <th>50%</th>\n",
       "      <td>1.000000</td>\n",
       "    </tr>\n",
       "    <tr>\n",
       "      <th>75%</th>\n",
       "      <td>1.000000</td>\n",
       "    </tr>\n",
       "    <tr>\n",
       "      <th>max</th>\n",
       "      <td>6.000000</td>\n",
       "    </tr>\n",
       "  </tbody>\n",
       "</table>\n",
       "</div>"
      ],
      "text/plain": [
       "                 0\n",
       "count  3996.000000\n",
       "mean      1.197698\n",
       "std       0.537416\n",
       "min       1.000000\n",
       "25%       1.000000\n",
       "50%       1.000000\n",
       "75%       1.000000\n",
       "max       6.000000"
      ]
     },
     "execution_count": 3,
     "metadata": {},
     "output_type": "execute_result"
    }
   ],
   "source": [
    "from pandas import DataFrame\n",
    "\n",
    "\n",
    "def ad_hominem_comments_count_per_thread(t: list) -> list:\n",
    "    \"\"\"\n",
    "    Returns a list with counts of ad-hominem arguments in threads\n",
    "    :param t: list of RedditThread\n",
    "    :return: list of integers\n",
    "    \"\"\"\n",
    "    result = []\n",
    "    for thread in t:\n",
    "        assert isinstance(thread, RedditThread)\n",
    "        # count all ad-hominem\n",
    "        result.append(sum([1 for comment in thread.comments if comment.is_ad_hominem()]))\n",
    "    return result\n",
    "\n",
    "\n",
    "ad_hominem_comments_count = ad_hominem_comments_count_per_thread(threads)\n",
    "df = DataFrame(data=ad_hominem_comments_count)\n",
    "df.describe()"
   ]
  },
  {
   "cell_type": "code",
   "execution_count": 4,
   "metadata": {},
   "outputs": [
    {
     "data": {
      "image/png": "[encoded data removed]",
      "text/plain": [
       "<Figure size 432x288 with 1 Axes>"
      ]
     },
     "metadata": {},
     "output_type": "display_data"
    }
   ],
   "source": [
    "%matplotlib inline\n",
    "import matplotlib.pyplot as plt\n",
    "import seaborn\n",
    "\n",
    "import warnings\n",
    "warnings.filterwarnings('ignore')\n",
    "\n",
    "seaborn.set(color_codes=True)\n",
    "seaborn.distplot(ad_hominem_comments_count, kde=False)\n",
    "plt.show()"
   ]
  },
  {
   "cell_type": "code",
   "execution_count": 5,
   "metadata": {},
   "outputs": [
    {
     "name": "stdout",
     "output_type": "stream",
     "text": [
      "{1: 3396, 2: 460, 3: 105, 4: 25, 5: 5, 6: 5}\n"
     ]
    }
   ],
   "source": [
    "ad_hominem_comments_count_dist = dict()\n",
    "for x in ad_hominem_comments_count:\n",
    "    ad_hominem_comments_count_dist[x] = ad_hominem_comments_count_dist.get(x, 0) + 1\n",
    "print(ad_hominem_comments_count_dist)"
   ]
  },
  {
   "cell_type": "markdown",
   "metadata": {},
   "source": [
    "* Are ad-hominem the last arguments?"
   ]
  },
  {
   "cell_type": "code",
   "execution_count": 6,
   "metadata": {},
   "outputs": [
    {
     "name": "stdout",
     "output_type": "stream",
     "text": [
      "{False: 2055, True: 1941}\n"
     ]
    }
   ],
   "source": [
    "last_comment_ad_hominem = {True: 0, False: 0}\n",
    "\n",
    "for thread in threads:\n",
    "    assert isinstance(thread, RedditThread)\n",
    "    _ = thread.comments[-1].is_ad_hominem()\n",
    "    last_comment_ad_hominem[_] = last_comment_ad_hominem.get(_) + 1\n",
    "    \n",
    "assert sum(last_comment_ad_hominem.values()) == len(threads)\n",
    "print(last_comment_ad_hominem)"
   ]
  },
  {
   "cell_type": "markdown",
   "metadata": {},
   "source": [
    "* In how many cases is a reaction to ad-hominem also ad-hominem?"
   ]
  },
  {
   "cell_type": "code",
   "execution_count": 7,
   "metadata": {},
   "outputs": [
    {
     "name": "stdout",
     "output_type": "stream",
     "text": [
      "{False: 2405, True: 440}\n"
     ]
    }
   ],
   "source": [
    "reaction_to_ad_hominem_is_ad_hominem = {True: 0, False: 0}\n",
    "for thread in threads:\n",
    "    for i, _ in enumerate(thread.comments):\n",
    "        if i < (len(thread.comments) - 1):\n",
    "            j = i + 1\n",
    "            current_comment = thread.comments[i]\n",
    "            next_comment = thread.comments[j]\n",
    "            \n",
    "            if current_comment.is_ad_hominem():\n",
    "                _ = next_comment.is_ad_hominem()\n",
    "                reaction_to_ad_hominem_is_ad_hominem[_] = reaction_to_ad_hominem_is_ad_hominem.get(_) + 1\n",
    "\n",
    "print(reaction_to_ad_hominem_is_ad_hominem)"
   ]
  },
  {
   "cell_type": "markdown",
   "metadata": {},
   "source": [
    "* Before calling names: What is the average number of comments before ad-hominem first appear?"
   ]
  },
  {
   "cell_type": "code",
   "execution_count": 8,
   "metadata": {},
   "outputs": [
    {
     "data": {
      "text/html": [
       "<div>\n",
       "<style scoped>\n",
       "    .dataframe tbody tr th:only-of-type {\n",
       "        vertical-align: middle;\n",
       "    }\n",
       "\n",
       "    .dataframe tbody tr th {\n",
       "        vertical-align: top;\n",
       "    }\n",
       "\n",
       "    .dataframe thead th {\n",
       "        text-align: right;\n",
       "    }\n",
       "</style>\n",
       "<table border=\"1\" class=\"dataframe\">\n",
       "  <thead>\n",
       "    <tr style=\"text-align: right;\">\n",
       "      <th></th>\n",
       "      <th>0</th>\n",
       "    </tr>\n",
       "  </thead>\n",
       "  <tbody>\n",
       "    <tr>\n",
       "      <th>count</th>\n",
       "      <td>3996.000000</td>\n",
       "    </tr>\n",
       "    <tr>\n",
       "      <th>mean</th>\n",
       "      <td>6.468969</td>\n",
       "    </tr>\n",
       "    <tr>\n",
       "      <th>std</th>\n",
       "      <td>5.775377</td>\n",
       "    </tr>\n",
       "    <tr>\n",
       "      <th>min</th>\n",
       "      <td>1.000000</td>\n",
       "    </tr>\n",
       "    <tr>\n",
       "      <th>25%</th>\n",
       "      <td>3.000000</td>\n",
       "    </tr>\n",
       "    <tr>\n",
       "      <th>50%</th>\n",
       "      <td>5.000000</td>\n",
       "    </tr>\n",
       "    <tr>\n",
       "      <th>75%</th>\n",
       "      <td>9.000000</td>\n",
       "    </tr>\n",
       "    <tr>\n",
       "      <th>max</th>\n",
       "      <td>115.000000</td>\n",
       "    </tr>\n",
       "  </tbody>\n",
       "</table>\n",
       "</div>"
      ],
      "text/plain": [
       "                 0\n",
       "count  3996.000000\n",
       "mean      6.468969\n",
       "std       5.775377\n",
       "min       1.000000\n",
       "25%       3.000000\n",
       "50%       5.000000\n",
       "75%       9.000000\n",
       "max     115.000000"
      ]
     },
     "execution_count": 8,
     "metadata": {},
     "output_type": "execute_result"
    }
   ],
   "source": [
    "numbers_of_good_comments_before_ad_hominem = []\n",
    "for thread in threads:\n",
    "    assert isinstance(thread, RedditThread)\n",
    "    _ = thread.get_positions_of_ad_hominem_comments()[0]\n",
    "    numbers_of_good_comments_before_ad_hominem.append(_)\n",
    "    \n",
    "df = DataFrame(numbers_of_good_comments_before_ad_hominem)\n",
    "df.describe()"
   ]
  },
  {
   "cell_type": "code",
   "execution_count": 9,
   "metadata": {},
   "outputs": [
    {
     "data": {
      "image/png": "[encoded data removed]",
      "text/plain": [
       "<Figure size 432x288 with 1 Axes>"
      ]
     },
     "metadata": {},
     "output_type": "display_data"
    }
   ],
   "source": [
    "max_limit = 20\n",
    "_ = [x for x in numbers_of_good_comments_before_ad_hominem if x <= max_limit]\n",
    "\n",
    "seaborn.distplot(_, kde=None, bins=max_limit)\n",
    "plt.show()"
   ]
  },
  {
   "cell_type": "markdown",
   "metadata": {},
   "source": [
    "* The same but now proportional to the thread length"
   ]
  },
  {
   "cell_type": "code",
   "execution_count": 10,
   "metadata": {},
   "outputs": [
    {
     "data": {
      "text/html": [
       "<div>\n",
       "<style scoped>\n",
       "    .dataframe tbody tr th:only-of-type {\n",
       "        vertical-align: middle;\n",
       "    }\n",
       "\n",
       "    .dataframe tbody tr th {\n",
       "        vertical-align: top;\n",
       "    }\n",
       "\n",
       "    .dataframe thead th {\n",
       "        text-align: right;\n",
       "    }\n",
       "</style>\n",
       "<table border=\"1\" class=\"dataframe\">\n",
       "  <thead>\n",
       "    <tr style=\"text-align: right;\">\n",
       "      <th></th>\n",
       "      <th>0</th>\n",
       "    </tr>\n",
       "  </thead>\n",
       "  <tbody>\n",
       "    <tr>\n",
       "      <th>count</th>\n",
       "      <td>3996.000000</td>\n",
       "    </tr>\n",
       "    <tr>\n",
       "      <th>mean</th>\n",
       "      <td>0.804584</td>\n",
       "    </tr>\n",
       "    <tr>\n",
       "      <th>std</th>\n",
       "      <td>0.221370</td>\n",
       "    </tr>\n",
       "    <tr>\n",
       "      <th>min</th>\n",
       "      <td>0.090909</td>\n",
       "    </tr>\n",
       "    <tr>\n",
       "      <th>25%</th>\n",
       "      <td>0.666667</td>\n",
       "    </tr>\n",
       "    <tr>\n",
       "      <th>50%</th>\n",
       "      <td>0.875000</td>\n",
       "    </tr>\n",
       "    <tr>\n",
       "      <th>75%</th>\n",
       "      <td>1.000000</td>\n",
       "    </tr>\n",
       "    <tr>\n",
       "      <th>max</th>\n",
       "      <td>1.000000</td>\n",
       "    </tr>\n",
       "  </tbody>\n",
       "</table>\n",
       "</div>"
      ],
      "text/plain": [
       "                 0\n",
       "count  3996.000000\n",
       "mean      0.804584\n",
       "std       0.221370\n",
       "min       0.090909\n",
       "25%       0.666667\n",
       "50%       0.875000\n",
       "75%       1.000000\n",
       "max       1.000000"
      ]
     },
     "execution_count": 10,
     "metadata": {},
     "output_type": "execute_result"
    }
   ],
   "source": [
    "numbers_of_good_comments_before_ad_hominem_relative = []\n",
    "for thread in threads:\n",
    "    assert isinstance(thread, RedditThread)\n",
    "    _ = thread.get_positions_of_ad_hominem_comments()[0] + 1\n",
    "    _ = _ / len(thread.comments)\n",
    "    numbers_of_good_comments_before_ad_hominem_relative.append(_)\n",
    "    \n",
    "df = DataFrame(numbers_of_good_comments_before_ad_hominem_relative)\n",
    "df.describe()"
   ]
  },
  {
   "cell_type": "code",
   "execution_count": 11,
   "metadata": {},
   "outputs": [
    {
     "data": {
      "image/png": "[encoded data removed]",
      "text/plain": [
       "<Figure size 432x288 with 1 Axes>"
      ]
     },
     "metadata": {},
     "output_type": "display_data"
    }
   ],
   "source": [
    "seaborn.set_context(\"talk\")\n",
    "seaborn.distplot(numbers_of_good_comments_before_ad_hominem_relative, axlabel='Relative position of the first AH in a thread', bins=10)\n",
    "# plt.legend()\n",
    "plt.savefig('/tmp/out.pdf')\n",
    "plt.show()"
   ]
  },
  {
   "cell_type": "markdown",
   "metadata": {},
   "source": [
    "* Is there any correlation of the thread length and the position of the first ad-hominem?"
   ]
  },
  {
   "cell_type": "code",
   "execution_count": 12,
   "metadata": {},
   "outputs": [
    {
     "name": "stdout",
     "output_type": "stream",
     "text": [
      "Pearson correlation, p-value: (-0.2266844683050094, 9.811452329887584e-48)\n"
     ]
    },
    {
     "data": {
      "image/png": "[encoded data removed]",
      "text/plain": [
       "<Figure size 432x288 with 1 Axes>"
      ]
     },
     "metadata": {},
     "output_type": "display_data"
    }
   ],
   "source": [
    "import scipy.stats.stats\n",
    "\n",
    "thread_lengths = [len(thread.comments) for thread in threads]\n",
    "\n",
    "print('Pearson correlation, p-value:', scipy.stats.stats.pearsonr(thread_lengths, numbers_of_good_comments_before_ad_hominem_relative))\n",
    "\n",
    "_, ax = plt.subplots()\n",
    "# ax.set(xscale=\"log\")\n",
    "seaborn.regplot(x='x', y='y',\n",
    "                data=DataFrame(data={'x': thread_lengths, 'y': numbers_of_good_comments_before_ad_hominem_relative}),\n",
    "                fit_reg=True, ax=ax)\n",
    "plt.show()\n"
   ]
  },
  {
   "cell_type": "markdown",
   "metadata": {},
   "source": [
    "So the correlation is quite weak..."
   ]
  },
  {
   "cell_type": "markdown",
   "metadata": {},
   "source": [
    "## Ad-hominem threads and submissions\n",
    "* Concentration of ad-hominem threads to the same topic (group by the first comment = OP)"
   ]
  },
  {
   "cell_type": "code",
   "execution_count": 13,
   "metadata": {},
   "outputs": [
    {
     "name": "stdout",
     "output_type": "stream",
     "text": [
      "Submissions with ad-hominem threads: 2085\n"
     ]
    }
   ],
   "source": [
    "# map: op.name, list of threads\n",
    "threads_grouped_by_op = RedditThread.group_threads_by_original_post(threads)\n",
    "    \n",
    "print('Submissions with ad-hominem threads:', len(threads_grouped_by_op))"
   ]
  },
  {
   "cell_type": "code",
   "execution_count": 14,
   "metadata": {},
   "outputs": [
    {
     "data": {
      "image/png": "[encoded data removed]",
      "text/plain": [
       "<Figure size 432x288 with 1 Axes>"
      ]
     },
     "metadata": {},
     "output_type": "display_data"
    }
   ],
   "source": [
    "threads_grouped_by_op_counts = [len(_) for _ in threads_grouped_by_op.values()]\n",
    "\n",
    "seaborn.distplot(threads_grouped_by_op_counts, kde=False)\n",
    "plt.show()"
   ]
  },
  {
   "cell_type": "code",
   "execution_count": 15,
   "metadata": {},
   "outputs": [
    {
     "data": {
      "text/html": [
       "<div>\n",
       "<style scoped>\n",
       "    .dataframe tbody tr th:only-of-type {\n",
       "        vertical-align: middle;\n",
       "    }\n",
       "\n",
       "    .dataframe tbody tr th {\n",
       "        vertical-align: top;\n",
       "    }\n",
       "\n",
       "    .dataframe thead th {\n",
       "        text-align: right;\n",
       "    }\n",
       "</style>\n",
       "<table border=\"1\" class=\"dataframe\">\n",
       "  <thead>\n",
       "    <tr style=\"text-align: right;\">\n",
       "      <th></th>\n",
       "      <th>0</th>\n",
       "    </tr>\n",
       "  </thead>\n",
       "  <tbody>\n",
       "    <tr>\n",
       "      <th>count</th>\n",
       "      <td>2085.000000</td>\n",
       "    </tr>\n",
       "    <tr>\n",
       "      <th>mean</th>\n",
       "      <td>1.916547</td>\n",
       "    </tr>\n",
       "    <tr>\n",
       "      <th>std</th>\n",
       "      <td>2.352713</td>\n",
       "    </tr>\n",
       "    <tr>\n",
       "      <th>min</th>\n",
       "      <td>1.000000</td>\n",
       "    </tr>\n",
       "    <tr>\n",
       "      <th>25%</th>\n",
       "      <td>1.000000</td>\n",
       "    </tr>\n",
       "    <tr>\n",
       "      <th>50%</th>\n",
       "      <td>1.000000</td>\n",
       "    </tr>\n",
       "    <tr>\n",
       "      <th>75%</th>\n",
       "      <td>2.000000</td>\n",
       "    </tr>\n",
       "    <tr>\n",
       "      <th>max</th>\n",
       "      <td>52.000000</td>\n",
       "    </tr>\n",
       "  </tbody>\n",
       "</table>\n",
       "</div>"
      ],
      "text/plain": [
       "                 0\n",
       "count  2085.000000\n",
       "mean      1.916547\n",
       "std       2.352713\n",
       "min       1.000000\n",
       "25%       1.000000\n",
       "50%       1.000000\n",
       "75%       2.000000\n",
       "max      52.000000"
      ]
     },
     "execution_count": 15,
     "metadata": {},
     "output_type": "execute_result"
    }
   ],
   "source": [
    "DataFrame(threads_grouped_by_op_counts).describe()"
   ]
  },
  {
   "cell_type": "markdown",
   "metadata": {},
   "source": [
    "Most submissions thus have only one or two ad-hominem (75%) but there's also one submission having 53 threads with ad-hominem!\n",
    "* What are these extremes?"
   ]
  },
  {
   "cell_type": "code",
   "execution_count": 16,
   "metadata": {},
   "outputs": [
    {
     "data": {
      "text/html": [
       "<div>\n",
       "<style scoped>\n",
       "    .dataframe tbody tr th:only-of-type {\n",
       "        vertical-align: middle;\n",
       "    }\n",
       "\n",
       "    .dataframe tbody tr th {\n",
       "        vertical-align: top;\n",
       "    }\n",
       "\n",
       "    .dataframe thead th {\n",
       "        text-align: right;\n",
       "    }\n",
       "</style>\n",
       "<table border=\"1\" class=\"dataframe\">\n",
       "  <thead>\n",
       "    <tr style=\"text-align: right;\">\n",
       "      <th></th>\n",
       "      <th>Ad-hominem threads</th>\n",
       "      <th>OP</th>\n",
       "    </tr>\n",
       "  </thead>\n",
       "  <tbody>\n",
       "    <tr>\n",
       "      <th>21</th>\n",
       "      <td>52</td>\n",
       "      <td>CMV: you cannot claim to respect all religions if you are against Satanism, and by extension it is wrong to censor Satanic imagery in media unless you do the same for all religions.</td>\n",
       "    </tr>\n",
       "    <tr>\n",
       "      <th>18</th>\n",
       "      <td>37</td>\n",
       "      <td>CMV: Transgender people should disclose they are transgender before engaging in physically intimate acts with another person.</td>\n",
       "    </tr>\n",
       "    <tr>\n",
       "      <th>20</th>\n",
       "      <td>34</td>\n",
       "      <td>CMV: It is a lot harder being a guy than it is being a woman</td>\n",
       "    </tr>\n",
       "    <tr>\n",
       "      <th>13</th>\n",
       "      <td>25</td>\n",
       "      <td>CMV: Banning the hate groups from having websites or places to express their opinion is a bad thing</td>\n",
       "    </tr>\n",
       "    <tr>\n",
       "      <th>16</th>\n",
       "      <td>20</td>\n",
       "      <td>CMV: post-op transgender people should always inform new partners before engaging in sexual activities</td>\n",
       "    </tr>\n",
       "    <tr>\n",
       "      <th>3</th>\n",
       "      <td>18</td>\n",
       "      <td>CMV: There is a very serious problem with \"black culture\" in America that nobody is willing to call out or speak honestly about, and this needs to change ASAP</td>\n",
       "    </tr>\n",
       "    <tr>\n",
       "      <th>19</th>\n",
       "      <td>17</td>\n",
       "      <td>CMV: Supporters of President Trump should not be mocked or ignored if Democrats want to win elections</td>\n",
       "    </tr>\n",
       "    <tr>\n",
       "      <th>2</th>\n",
       "      <td>15</td>\n",
       "      <td>CMV: There is nothing morally wrong with building a wall to keep out potential illegal immigrants</td>\n",
       "    </tr>\n",
       "    <tr>\n",
       "      <th>8</th>\n",
       "      <td>14</td>\n",
       "      <td>CMV: Reddit was wrong to ban /r/fatpeoplehate but not /r/shitredditsays.</td>\n",
       "    </tr>\n",
       "    <tr>\n",
       "      <th>17</th>\n",
       "      <td>14</td>\n",
       "      <td>CMV: Neo-nazis, white supremacists, confederate sympathizers are not on par with BLM and antifa</td>\n",
       "    </tr>\n",
       "    <tr>\n",
       "      <th>7</th>\n",
       "      <td>13</td>\n",
       "      <td>CMV: Donald Trump is going to plunge our country, and the world, into ruin.</td>\n",
       "    </tr>\n",
       "    <tr>\n",
       "      <th>15</th>\n",
       "      <td>12</td>\n",
       "      <td>CMV: Voting in elections is the best way to bring about political change in America, and people that choose not to vote are directly responsible for the current state of affairs in American politics</td>\n",
       "    </tr>\n",
       "    <tr>\n",
       "      <th>1</th>\n",
       "      <td>12</td>\n",
       "      <td>CMV: I believe affirmative action is a blatant \"fuck you\" to Asians in America.</td>\n",
       "    </tr>\n",
       "    <tr>\n",
       "      <th>12</th>\n",
       "      <td>12</td>\n",
       "      <td>CMV: Telling someone \"They're alive in your heart\" after a death is callous and flippant</td>\n",
       "    </tr>\n",
       "    <tr>\n",
       "      <th>11</th>\n",
       "      <td>11</td>\n",
       "      <td>CMV: Over the next 10-20 years, the biggest threat to most Americans will be the Republican party</td>\n",
       "    </tr>\n",
       "    <tr>\n",
       "      <th>10</th>\n",
       "      <td>11</td>\n",
       "      <td>CMV: There is no morally justifiable reason to consume animal products in the first world</td>\n",
       "    </tr>\n",
       "    <tr>\n",
       "      <th>9</th>\n",
       "      <td>11</td>\n",
       "      <td>CMV: I think that the vast majority of Bernie supporters are selfish and ill-informed</td>\n",
       "    </tr>\n",
       "    <tr>\n",
       "      <th>5</th>\n",
       "      <td>11</td>\n",
       "      <td>CMV: I think the Red Pill is mostly correct about women and society.</td>\n",
       "    </tr>\n",
       "    <tr>\n",
       "      <th>4</th>\n",
       "      <td>11</td>\n",
       "      <td>CMV - I should not go to Iran because as a young female, I would be made to feel uncomfortable.</td>\n",
       "    </tr>\n",
       "    <tr>\n",
       "      <th>14</th>\n",
       "      <td>10</td>\n",
       "      <td>CMV: Stefonknee Wolscht, the 52-year-old man who left his family with seven kids to become a \"six-year-old girl\" should not be supported to please their delusions of being a six-year-old girl that...</td>\n",
       "    </tr>\n",
       "    <tr>\n",
       "      <th>6</th>\n",
       "      <td>10</td>\n",
       "      <td>CMV: No one has any idea on how to prevent spree killings. Everyone is supporting measures that have no supporting evidence.</td>\n",
       "    </tr>\n",
       "    <tr>\n",
       "      <th>0</th>\n",
       "      <td>10</td>\n",
       "      <td>CMV: Statements from the Peter Liang protest such as \"White privilege means that they have a sense of superiority and supremacy and they want to be put above the law\" are objectively racist and sh...</td>\n",
       "    </tr>\n",
       "  </tbody>\n",
       "</table>\n",
       "</div>"
      ],
      "text/plain": [
       "    Ad-hominem threads  \\\n",
       "21                  52   \n",
       "18                  37   \n",
       "20                  34   \n",
       "13                  25   \n",
       "16                  20   \n",
       "3                   18   \n",
       "19                  17   \n",
       "2                   15   \n",
       "8                   14   \n",
       "17                  14   \n",
       "7                   13   \n",
       "15                  12   \n",
       "1                   12   \n",
       "12                  12   \n",
       "11                  11   \n",
       "10                  11   \n",
       "9                   11   \n",
       "5                   11   \n",
       "4                   11   \n",
       "14                  10   \n",
       "6                   10   \n",
       "0                   10   \n",
       "\n",
       "                                                                                                                                                                                                         OP  \n",
       "21                    CMV: you cannot claim to respect all religions if you are against Satanism, and by extension it is wrong to censor Satanic imagery in media unless you do the same for all religions.  \n",
       "18                                                                            CMV: Transgender people should disclose they are transgender before engaging in physically intimate acts with another person.  \n",
       "20                                                                                                                                             CMV: It is a lot harder being a guy than it is being a woman  \n",
       "13                                                                                                      CMV: Banning the hate groups from having websites or places to express their opinion is a bad thing  \n",
       "16                                                                                                   CMV: post-op transgender people should always inform new partners before engaging in sexual activities  \n",
       "3                                            CMV: There is a very serious problem with \"black culture\" in America that nobody is willing to call out or speak honestly about, and this needs to change ASAP  \n",
       "19                                                                                                    CMV: Supporters of President Trump should not be mocked or ignored if Democrats want to win elections  \n",
       "2                                                                                                         CMV: There is nothing morally wrong with building a wall to keep out potential illegal immigrants  \n",
       "8                                                                                                                                  CMV: Reddit was wrong to ban /r/fatpeoplehate but not /r/shitredditsays.  \n",
       "17                                                                                                          CMV: Neo-nazis, white supremacists, confederate sympathizers are not on par with BLM and antifa  \n",
       "7                                                                                                                               CMV: Donald Trump is going to plunge our country, and the world, into ruin.  \n",
       "15   CMV: Voting in elections is the best way to bring about political change in America, and people that choose not to vote are directly responsible for the current state of affairs in American politics  \n",
       "1                                                                                                                           CMV: I believe affirmative action is a blatant \"fuck you\" to Asians in America.  \n",
       "12                                                                                                                 CMV: Telling someone \"They're alive in your heart\" after a death is callous and flippant  \n",
       "11                                                                                                        CMV: Over the next 10-20 years, the biggest threat to most Americans will be the Republican party  \n",
       "10                                                                                                                CMV: There is no morally justifiable reason to consume animal products in the first world  \n",
       "9                                                                                                                     CMV: I think that the vast majority of Bernie supporters are selfish and ill-informed  \n",
       "5                                                                                                                                      CMV: I think the Red Pill is mostly correct about women and society.  \n",
       "4                                                                                                           CMV - I should not go to Iran because as a young female, I would be made to feel uncomfortable.  \n",
       "14  CMV: Stefonknee Wolscht, the 52-year-old man who left his family with seven kids to become a \"six-year-old girl\" should not be supported to please their delusions of being a six-year-old girl that...  \n",
       "6                                                                              CMV: No one has any idea on how to prevent spree killings. Everyone is supporting measures that have no supporting evidence.  \n",
       "0   CMV: Statements from the Peter Liang protest such as \"White privilege means that they have a sense of superiority and supremacy and they want to be put above the law\" are objectively racist and sh...  "
      ]
     },
     "execution_count": 16,
     "metadata": {},
     "output_type": "execute_result"
    }
   ],
   "source": [
    "# show OP with more than 10 ad-hominem threads\n",
    "from AnnotatedRedditComment import AnnotatedRedditComment\n",
    "import pandas\n",
    "\n",
    "names = []\n",
    "counts = []\n",
    "\n",
    "# names = ['adsf', 'wrwer']\n",
    "# counts = [1, 3]\n",
    "for thread_list in threads_grouped_by_op.values():\n",
    "    current_length = len(thread_list)\n",
    "    \n",
    "    if current_length >= 10:\n",
    "        t = thread_list[0]\n",
    "        assert isinstance(t, RedditThread)\n",
    "        c = t.comments[0]\n",
    "        assert isinstance(c, AnnotatedRedditComment)\n",
    "        # add title and counts\n",
    "        names.append(c.title)\n",
    "        counts.append(current_length)\n",
    "\n",
    "pandas.options.display.max_colwidth = 200\n",
    "df = DataFrame({'OP': names, 'Ad-hominem threads': counts}).sort_values('Ad-hominem threads', ascending=False)\n",
    "df"
   ]
  },
  {
   "cell_type": "markdown",
   "metadata": {},
   "source": [
    "So here we go:\n",
    "1. Religion\n",
    "2. Sexuality and gender (trans-sexuality, homosexuality)\n",
    "3. US-politics (Trump)\n",
    "4. Racism in the U.S.\n",
    "5. Veganism"
   ]
  },
  {
   "cell_type": "markdown",
   "metadata": {},
   "source": [
    "So the 'crazy' topics and the normal topics have same amount of delta comments (0.7-0.8%)"
   ]
  },
  {
   "cell_type": "markdown",
   "metadata": {},
   "source": [
    "## Ad-hominem comments and authors"
   ]
  },
  {
   "cell_type": "markdown",
   "metadata": {},
   "source": [
    "* How many normal comments commit the ad-hominem author before ending up with ad-hominem?"
   ]
  },
  {
   "cell_type": "code",
   "execution_count": 17,
   "metadata": {},
   "outputs": [
    {
     "name": "stdout",
     "output_type": "stream",
     "text": [
      "{0, 1, 2, 3, 4, 5, 6, 7, 8, 9, 10, 11, 12, 13, 14, 15, 16, 17, 19, 20, 21, 23, 40, 57}\n"
     ]
    },
    {
     "data": {
      "text/html": [
       "<div>\n",
       "<style scoped>\n",
       "    .dataframe tbody tr th:only-of-type {\n",
       "        vertical-align: middle;\n",
       "    }\n",
       "\n",
       "    .dataframe tbody tr th {\n",
       "        vertical-align: top;\n",
       "    }\n",
       "\n",
       "    .dataframe thead th {\n",
       "        text-align: right;\n",
       "    }\n",
       "</style>\n",
       "<table border=\"1\" class=\"dataframe\">\n",
       "  <thead>\n",
       "    <tr style=\"text-align: right;\">\n",
       "      <th></th>\n",
       "      <th>0</th>\n",
       "    </tr>\n",
       "  </thead>\n",
       "  <tbody>\n",
       "    <tr>\n",
       "      <th>count</th>\n",
       "      <td>3996.000000</td>\n",
       "    </tr>\n",
       "    <tr>\n",
       "      <th>mean</th>\n",
       "      <td>1.465716</td>\n",
       "    </tr>\n",
       "    <tr>\n",
       "      <th>std</th>\n",
       "      <td>2.563355</td>\n",
       "    </tr>\n",
       "    <tr>\n",
       "      <th>min</th>\n",
       "      <td>0.000000</td>\n",
       "    </tr>\n",
       "    <tr>\n",
       "      <th>25%</th>\n",
       "      <td>0.000000</td>\n",
       "    </tr>\n",
       "    <tr>\n",
       "      <th>50%</th>\n",
       "      <td>0.000000</td>\n",
       "    </tr>\n",
       "    <tr>\n",
       "      <th>75%</th>\n",
       "      <td>2.000000</td>\n",
       "    </tr>\n",
       "    <tr>\n",
       "      <th>max</th>\n",
       "      <td>57.000000</td>\n",
       "    </tr>\n",
       "  </tbody>\n",
       "</table>\n",
       "</div>"
      ],
      "text/plain": [
       "                 0\n",
       "count  3996.000000\n",
       "mean      1.465716\n",
       "std       2.563355\n",
       "min       0.000000\n",
       "25%       0.000000\n",
       "50%       0.000000\n",
       "75%       2.000000\n",
       "max      57.000000"
      ]
     },
     "execution_count": 17,
     "metadata": {},
     "output_type": "execute_result"
    }
   ],
   "source": [
    "comments_before_ad_hominem_by_its_author = []\n",
    "\n",
    "for thread in threads:\n",
    "    assert isinstance(thread, RedditThread)\n",
    "    # get first ad-hominem\n",
    "    first_ad_hominem_position = thread.get_positions_of_ad_hominem_comments()[0]\n",
    "    # get its author\n",
    "    comment = thread.comments[first_ad_hominem_position]\n",
    "    assert isinstance(comment, AnnotatedRedditComment)\n",
    "    comment.author_name\n",
    "    \n",
    "    counter = 0\n",
    "    \n",
    "    for i in range(first_ad_hominem_position - 1):\n",
    "        c = thread.comments[i]\n",
    "        assert isinstance(c, AnnotatedRedditComment)\n",
    "        \n",
    "        if c.author_name == comment.author_name:\n",
    "            counter += 1\n",
    "    \n",
    "    comments_before_ad_hominem_by_its_author.append(counter)\n",
    "\n",
    "print(set(comments_before_ad_hominem_by_its_author))\n",
    "DataFrame(comments_before_ad_hominem_by_its_author).describe()"
   ]
  },
  {
   "cell_type": "code",
   "execution_count": 18,
   "metadata": {},
   "outputs": [
    {
     "data": {
      "image/png": "[encoded data removed]",
      "text/plain": [
       "<Figure size 432x288 with 1 Axes>"
      ]
     },
     "metadata": {},
     "output_type": "display_data"
    }
   ],
   "source": [
    "seaborn.distplot(comments_before_ad_hominem_by_its_author, kde=False)\n",
    "plt.show()"
   ]
  },
  {
   "cell_type": "markdown",
   "metadata": {},
   "source": [
    "About 66% ad-hominem posters post without previous interaction, 11% write at least one post in the thread, 6% two posts, some outliers also include over 10 turns (with maximum 57 turns)"
   ]
  },
  {
   "cell_type": "markdown",
   "metadata": {},
   "source": [
    "* How many other people participate before calling names (excluding OP and ad-hominem poster)?"
   ]
  },
  {
   "cell_type": "code",
   "execution_count": 19,
   "metadata": {},
   "outputs": [
    {
     "name": "stdout",
     "output_type": "stream",
     "text": [
      "All threads: 3162\n"
     ]
    },
    {
     "data": {
      "image/png": "[encoded data removed]",
      "text/plain": [
       "<Figure size 432x288 with 1 Axes>"
      ]
     },
     "metadata": {},
     "output_type": "display_data"
    }
   ],
   "source": [
    "people_before_calling_names = []\n",
    "op_is_ad_hominem = {True: 0, False: 0}\n",
    "\n",
    "threads_with_all_author_names = RedditThread.filter_threads_with_all_authors(threads)\n",
    "\n",
    "for thread in threads_with_all_author_names:\n",
    "    # get comments between OP and first ad-hominem\n",
    "    first_ad_hominem_position = thread.get_positions_of_ad_hominem_comments()[0]\n",
    "    sub_comments = thread.comments[1:first_ad_hominem_position]\n",
    "    op = thread.comments[0]\n",
    "    ad_hominem_comment = thread.comments[first_ad_hominem_position]\n",
    "    \n",
    "    # print('OP author', op.author_name)\n",
    "    # print('ad-hominem author', ad_hominem_comment.author_name)\n",
    "    \n",
    "    # update counts\n",
    "    same = op.author_name == ad_hominem_comment.author_name\n",
    "    op_is_ad_hominem[same] = op_is_ad_hominem[same] + 1\n",
    "    \n",
    "    # extract all authors except OP author\n",
    "    authors = set([c.author_name for c in sub_comments if c.author_name not in [op.author_name, ad_hominem_comment.author_name]])\n",
    "    \n",
    "    people_before_calling_names.append(len(authors))\n",
    "\n",
    "print('All threads:', len(people_before_calling_names))\n",
    "seaborn.distplot(people_before_calling_names, kde=False)\n",
    "plt.show()"
   ]
  },
  {
   "cell_type": "markdown",
   "metadata": {},
   "source": [
    "This is interesting: only about 20% is an interplay between OP and someone else (the zero for \"other participants\")\n",
    "* How does the number of participants correlates with the thread length?"
   ]
  },
  {
   "cell_type": "code",
   "execution_count": 20,
   "metadata": {},
   "outputs": [
    {
     "data": {
      "image/png": "[encoded data removed]",
      "text/plain": [
       "<Figure size 432x288 with 1 Axes>"
      ]
     },
     "metadata": {},
     "output_type": "display_data"
    }
   ],
   "source": [
    "threads_with_all_author_names_lengths = [len(t.comments) for t in threads_with_all_author_names]\n",
    "\n",
    "# filter outlier (more than 50)\n",
    "threads_with_all_author_names_lengths_no_outliers = [len(t.comments) for i, t in\n",
    "                                                     enumerate(threads_with_all_author_names) if len(t.comments) < 50]\n",
    "people_before_calling_names_no_outliers = [people_before_calling_names[i] for i, t in\n",
    "                                             enumerate(threads_with_all_author_names) if len(t.comments) < 50]\n",
    "\n",
    "seaborn.regplot(x='thread_length', y='other_people',\n",
    "                data=DataFrame(data={'thread_length': threads_with_all_author_names_lengths_no_outliers,\n",
    "                                     'other_people': people_before_calling_names_no_outliers}),\n",
    "                fit_reg=True)\n",
    "plt.show()\n"
   ]
  },
  {
   "cell_type": "markdown",
   "metadata": {},
   "source": [
    "So except for outliers (extra long threads), there seem to be usually more people involved in longer threads.\n"
   ]
  },
  {
   "cell_type": "markdown",
   "metadata": {},
   "source": [
    "* Are OP also involved in committing the first ad-hominem?"
   ]
  },
  {
   "cell_type": "code",
   "execution_count": 21,
   "metadata": {},
   "outputs": [
    {
     "name": "stdout",
     "output_type": "stream",
     "text": [
      "{False: 2802, True: 360}\n"
     ]
    }
   ],
   "source": [
    "print(op_is_ad_hominem)"
   ]
  },
  {
   "cell_type": "markdown",
   "metadata": {},
   "source": [
    "So in 12% the OP himself commit ad-hominem"
   ]
  },
  {
   "cell_type": "markdown",
   "metadata": {},
   "source": [
    "## Authors comitting ad-hominem"
   ]
  },
  {
   "cell_type": "code",
   "execution_count": 22,
   "metadata": {},
   "outputs": [
    {
     "name": "stdout",
     "output_type": "stream",
     "text": [
      "All normal authors in ad-hominem threads: 4853\n",
      "All authors who committed ad-hominem: 2180\n"
     ]
    }
   ],
   "source": [
    "normal_authors = dict()\n",
    "ad_hominem_authors = dict()\n",
    "\n",
    "# we must use only threads with know authors: threads_with_all_author_names\n",
    "for submission in RedditThread.group_threads_by_original_post(threads_with_all_author_names).values():\n",
    "    assert isinstance(submission, list)\n",
    "    comments = RedditThread.collect_all_comments(submission)\n",
    "    \n",
    "    for comment in comments:\n",
    "        assert isinstance(comment, AnnotatedRedditComment)\n",
    "        if comment.is_ad_hominem():\n",
    "            ad_hominem_authors[comment.author_name] = ad_hominem_authors.get(comment.author_name, 0) + 1\n",
    "        else:\n",
    "            normal_authors[comment.author_name] = normal_authors.get(comment.author_name, 0) + 1\n",
    "\n",
    "print('All normal authors in ad-hominem threads:', len(normal_authors))\n",
    "print('All authors who committed ad-hominem:', len(ad_hominem_authors))"
   ]
  },
  {
   "cell_type": "markdown",
   "metadata": {},
   "source": [
    "* Do the distributions (number of comments) differ between ad-hominem authors and normal authors in ad-hominem threads?"
   ]
  },
  {
   "cell_type": "code",
   "execution_count": 23,
   "metadata": {},
   "outputs": [
    {
     "data": {
      "image/png": "[encoded data removed]",
      "text/plain": [
       "<Figure size 360x360 with 1 Axes>"
      ]
     },
     "metadata": {},
     "output_type": "display_data"
    },
    {
     "data": {
      "image/png": "[encoded data removed]",
      "text/plain": [
       "<Figure size 360x360 with 1 Axes>"
      ]
     },
     "metadata": {},
     "output_type": "display_data"
    }
   ],
   "source": [
    "from collections import Counter\n",
    "\n",
    "labels, values = zip(*Counter(list(normal_authors.values())).items())\n",
    "df_normal = DataFrame(data={'comments': labels, 'authors': values})\n",
    "labels, values = zip(*Counter(list(ad_hominem_authors.values())).items())\n",
    "df_ad_hominem = DataFrame(data={'comments': labels, 'authors': values})\n",
    "\n",
    "# _, ax = plt.subplots()\n",
    "# ax.set(yscale=\"log\")\n",
    "seaborn.lmplot(x='comments', y='authors', data=df_normal, fit_reg=False)\n",
    "seaborn.lmplot(x='comments', y='authors', data=df_ad_hominem, fit_reg=False)\n",
    "plt.show()\n"
   ]
  },
  {
   "cell_type": "markdown",
   "metadata": {},
   "source": [
    "* The trend is similar, however maximum ad-hominem posts for one person is 13 -- much fewer than for normal comments\n",
    "\n",
    "Most authors commit ad-hominem once (~1800), ~300 authors twice, only 50 authors four times."
   ]
  },
  {
   "cell_type": "markdown",
   "metadata": {},
   "source": [
    "* Are ad-hominem users spread over CMV or are they concentrated around one topic?\n",
    "\t* group submissions\n",
    "\t* all authors\n",
    "\t* number of submissions in which each author commited ad-hominem (only for those who did)"
   ]
  },
  {
   "cell_type": "code",
   "execution_count": 24,
   "metadata": {},
   "outputs": [
    {
     "name": "stdout",
     "output_type": "stream",
     "text": [
      "2180\n"
     ]
    },
    {
     "data": {
      "image/png": "[encoded data removed]",
      "text/plain": [
       "<Figure size 432x288 with 1 Axes>"
      ]
     },
     "metadata": {},
     "output_type": "display_data"
    }
   ],
   "source": [
    "# {author_name, (OP1, OP2, OP3)} - submissions where the author committed ad-hominem\n",
    "ad_hominem_author_submission_list_dict = dict()\n",
    "# init empty sets\n",
    "for author in ad_hominem_authors.keys():\n",
    "    ad_hominem_author_submission_list_dict[author] = set()\n",
    "\n",
    "# group submissions\n",
    "for op, submission_threads in RedditThread.group_threads_by_original_post(threads_with_all_author_names).items():\n",
    "    for comment in RedditThread.collect_all_comments(submission_threads):\n",
    "        assert isinstance(comment, AnnotatedRedditComment)\n",
    "        if comment.is_ad_hominem():\n",
    "            # add this submission to the list for this author\n",
    "            ad_hominem_author_submission_list_dict[comment.author_name].add(op)\n",
    "            \n",
    "ad_hominem_author_spreads = [len(submissions) for submissions in ad_hominem_author_submission_list_dict.values()]\n",
    "print(len(ad_hominem_author_spreads))\n",
    "seaborn.distplot(ad_hominem_author_spreads, kde=False)\n",
    "plt.show()"
   ]
  },
  {
   "cell_type": "markdown",
   "metadata": {},
   "source": [
    "They really concetrate around one submission (in ~80%). In 10% they commit ad-hominem in other submissions, too. Very rarely in more submissions."
   ]
  },
  {
   "cell_type": "markdown",
   "metadata": {},
   "source": [
    "* Do ad-hominem authors with larger spread write also more ad-hominem comments in general?"
   ]
  },
  {
   "cell_type": "code",
   "execution_count": 25,
   "metadata": {},
   "outputs": [
    {
     "data": {
      "image/png": "[encoded data removed]",
      "text/plain": [
       "<Figure size 432x432 with 3 Axes>"
      ]
     },
     "metadata": {},
     "output_type": "display_data"
    }
   ],
   "source": [
    "spread = []\n",
    "comment_count = []\n",
    "\n",
    "for author in ad_hominem_author_submission_list_dict:\n",
    "    submissions = ad_hominem_author_submission_list_dict[author]\n",
    "    comments_total = ad_hominem_authors[author]\n",
    "    \n",
    "    spread.append(len(submissions))\n",
    "    comment_count.append(comments_total)\n",
    "    \n",
    "seaborn.jointplot(x='spread', y='comments', data=DataFrame({'spread': spread, 'comments': comment_count}))\n",
    "plt.show()"
   ]
  },
  {
   "cell_type": "markdown",
   "metadata": {},
   "source": [
    "There are not many \"spammers\", i.e., ad-hominem author commits ad-hominem in 6 submissions but writes only max 7 ad-hominem comments in total. Values for lower spread corresponds to the centrality around fewer submission (topics)."
   ]
  },
  {
   "cell_type": "markdown",
   "metadata": {},
   "source": [
    "* Are ad-hominem authors also writing \"normal\" comments in CMV?"
   ]
  },
  {
   "cell_type": "code",
   "execution_count": 26,
   "metadata": {},
   "outputs": [
    {
     "name": "stdout",
     "output_type": "stream",
     "text": [
      "2180\n",
      "2180\n"
     ]
    }
   ],
   "source": [
    "import os\n",
    "\n",
    "# we know all authors who committed ad-hominem\n",
    "len(ad_hominem_authors.keys())\n",
    "\n",
    "main_dir = '/home/user-ukp/data2/cmv-full-2017-09-22/'\n",
    "files = [f for f in os.listdir(main_dir) if os.path.isfile(os.path.join(main_dir, f))]\n",
    "\n",
    "ad_hominem_author_counts_normal = dict()\n",
    "ad_hominem_author_counts_ad_hominem = dict()\n",
    "for a in ad_hominem_authors:\n",
    "    ad_hominem_author_counts_normal[a] = 0\n",
    "    ad_hominem_author_counts_ad_hominem[a] = 0\n",
    "\n",
    "for f in files:\n",
    "    comments = RedditThread.load_comments_from_file(os.path.join(main_dir, f))\n",
    "    clean_threads = RedditThread.discard_corrupted_threads(RedditThread.reconstruct_threads_from_submission(comments))\n",
    "\n",
    "    # remove outliers (threads longer than 200 comments)\n",
    "    clean_threads = [thread for thread in clean_threads if 200 >= len(thread.comments) > 0]\n",
    "\n",
    "    for comment in RedditThread.collect_all_comments(clean_threads):\n",
    "        assert isinstance(comment, AnnotatedRedditComment)\n",
    "\n",
    "        if comment.author_name in ad_hominem_authors:\n",
    "            if comment.is_ad_hominem():\n",
    "                ad_hominem_author_counts_ad_hominem[comment.author_name] = ad_hominem_author_counts_ad_hominem.get(\n",
    "                    comment.author_name) + 1\n",
    "            else:\n",
    "                ad_hominem_author_counts_normal[comment.author_name] = ad_hominem_author_counts_normal.get(\n",
    "                    comment.author_name) + 1\n",
    "\n",
    "print(len(ad_hominem_author_counts_normal))\n",
    "print(len(ad_hominem_author_counts_ad_hominem))"
   ]
  },
  {
   "cell_type": "code",
   "execution_count": 27,
   "metadata": {},
   "outputs": [
    {
     "data": {
      "image/png": "[encoded data removed]",
      "text/plain": [
       "<Figure size 432x432 with 3 Axes>"
      ]
     },
     "metadata": {},
     "output_type": "display_data"
    }
   ],
   "source": [
    "import collections\n",
    "# show correlation between number of ad-hominem and number of good ones\n",
    "\n",
    "n = list(collections.OrderedDict(sorted(ad_hominem_author_counts_normal.items())).values())\n",
    "h = list(collections.OrderedDict(sorted(ad_hominem_author_counts_ad_hominem.items())).values())\n",
    "\n",
    "seaborn.jointplot(x='n', y='h', data=DataFrame({'n': n, 'h': h}))\n",
    "plt.show()"
   ]
  }
 ],
 "metadata": {
  "kernelspec": {
   "display_name": "Python 3",
   "language": "python",
   "name": "python3"
  },
  "language_info": {
   "codemirror_mode": {
    "name": "ipython",
    "version": 3
   },
   "file_extension": ".py",
   "mimetype": "text/x-python",
   "name": "python",
   "nbconvert_exporter": "python",
   "pygments_lexer": "ipython3",
   "version": "3.5.2"
  }
 },
 "nbformat": 4,
 "nbformat_minor": 1
}
